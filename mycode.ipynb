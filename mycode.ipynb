{
 "cells": [
  {
   "cell_type": "code",
   "execution_count": 7,
   "id": "d85d0ec9-de97-41b7-a394-f670aeccadac",
   "metadata": {},
   "outputs": [
    {
     "name": "stdout",
     "output_type": "stream",
     "text": [
      "Honda\n",
      "volvo\n",
      "Toyota\n"
     ]
    }
   ],
   "source": [
    "#for looping constructs in python\n",
    "cars = [\"Honda\",\"volvo\",\"Toyota\"]\n",
    "for x in cars:\n",
    "   print(x)"
   ]
  },
  {
   "cell_type": "code",
   "execution_count": 9,
   "id": "e94501db-82bf-4171-b441-bd64440d4bb6",
   "metadata": {},
   "outputs": [
    {
     "name": "stdout",
     "output_type": "stream",
     "text": [
      "H\n",
      "o\n",
      "n\n",
      "d\n",
      "a\n"
     ]
    }
   ],
   "source": [
    "# to make an item to be X \n",
    "cars = [\"Honda\",\"volvo\",\"Toyota\"]\n",
    "for x in \"Honda\":\n",
    "   print(x)"
   ]
  },
  {
   "cell_type": "code",
   "execution_count": 30,
   "id": "60b69aa5-3f82-4d4e-b80e-12aed2d86d1e",
   "metadata": {},
   "outputs": [
    {
     "name": "stdout",
     "output_type": "stream",
     "text": [
      "Honda\n",
      "volvo\n",
      "Toyota\n"
     ]
    }
   ],
   "source": [
    "#execution will print up to toyota and end the loop\n",
    "cars = [\"Honda\",\"volvo\",\"Toyota\",\"tesla\",\"Jaguar\"]\n",
    "for x in cars:\n",
    "   print(x)\n",
    "   if x == \"Toyota\":\n",
    "      break\n",
    "       \n",
    "    "
   ]
  },
  {
   "cell_type": "code",
   "execution_count": 40,
   "id": "e85738c6-c81c-468a-affb-947a8fe610d6",
   "metadata": {},
   "outputs": [
    {
     "name": "stdout",
     "output_type": "stream",
     "text": [
      "Honda\n",
      "volvo\n",
      "tesla\n",
      "Jaguar\n"
     ]
    }
   ],
   "source": [
    "#the execution will not print toyota\n",
    "cars = [\"Honda\",\"volvo\",\"Toyota\",\"tesla\",\"Jaguar\"]\n",
    "for x in cars:\n",
    "    if x == \"Toyota\":\n",
    "      continue\n",
    "    print(x)"
   ]
  },
  {
   "cell_type": "code",
   "execution_count": 44,
   "id": "bc219aff-a25f-4ba2-969c-6c385e332135",
   "metadata": {},
   "outputs": [
    {
     "name": "stdout",
     "output_type": "stream",
     "text": [
      "0\n",
      "1\n",
      "2\n",
      "3\n",
      "4\n",
      "5\n",
      "2\n",
      "3\n",
      "4\n"
     ]
    }
   ],
   "source": [
    "#range function\n",
    "for x in range (6):\n",
    "    print(x)\n",
    "\n"
   ]
  },
  {
   "cell_type": "code",
   "execution_count": 46,
   "id": "5e0f4e07-9288-4c2c-86c9-5e4165c188c4",
   "metadata": {},
   "outputs": [
    {
     "name": "stdout",
     "output_type": "stream",
     "text": [
      "2\n",
      "3\n",
      "4\n"
     ]
    }
   ],
   "source": [
    "#in range function one can add parametors\n",
    "for x in range (2,5):\n",
    "    print(x)"
   ]
  },
  {
   "cell_type": "code",
   "execution_count": 50,
   "id": "35737202-4073-4482-9bcd-bd901659458a",
   "metadata": {},
   "outputs": [
    {
     "name": "stdout",
     "output_type": "stream",
     "text": [
      "2\n",
      "5\n",
      "8\n",
      "11\n",
      "14\n",
      "17\n",
      "20\n",
      "23\n",
      "26\n",
      "29\n"
     ]
    }
   ],
   "source": [
    "#in range function one can add parametors and let's say one in the middle\n",
    "for x in range (2,30,3):\n",
    "    print(x)# there is a sequence generated for the function"
   ]
  },
  {
   "cell_type": "code",
   "execution_count": 52,
   "id": "21d32356-e76b-45fb-a6f3-892cd1deca52",
   "metadata": {},
   "outputs": [
    {
     "name": "stdout",
     "output_type": "stream",
     "text": [
      "0\n",
      "1\n",
      "2\n",
      "3\n",
      "Last number\n"
     ]
    }
   ],
   "source": [
    "# there's an introduction of else in the for loop \n",
    "for x in range (4):\n",
    "    print(x)\n",
    "else:\n",
    "    print('Last number')\n",
    "    \n"
   ]
  },
  {
   "cell_type": "code",
   "execution_count": 62,
   "id": "62d651e0-99a7-475c-86f5-305921e1e215",
   "metadata": {},
   "outputs": [
    {
     "name": "stdout",
     "output_type": "stream",
     "text": [
      "0\n",
      "1\n"
     ]
    }
   ],
   "source": [
    "# for instance if you break the function the else state won't be executed\n",
    "for x in range (4):\n",
    "    if x == 2: break\n",
    "    print(x)\n",
    "else:\n",
    "    print('Last number')"
   ]
  },
  {
   "cell_type": "code",
   "execution_count": 64,
   "id": "e6b66057-2065-497e-b087-d1a7df4c450f",
   "metadata": {},
   "outputs": [
    {
     "name": "stdout",
     "output_type": "stream",
     "text": [
      "aruna volvo\n",
      "aruna tesla\n",
      "aruna honda\n",
      "promise volvo\n",
      "promise tesla\n",
      "promise honda\n",
      "machio volvo\n",
      "machio tesla\n",
      "machio honda\n"
     ]
    }
   ],
   "source": [
    "# loops in loops \"nested loops\"\n",
    "names = ['aruna','promise','machio']\n",
    "cars = ['volvo','tesla','honda']\n",
    "\n",
    "for x in names:\n",
    "    for y in cars:\n",
    "        print(x,y)"
   ]
  },
  {
   "cell_type": "markdown",
   "id": "4306e343-7588-4a99-ae18-08da4d021566",
   "metadata": {},
   "source": [
    "Python Function."
   ]
  },
  {
   "cell_type": "code",
   "execution_count": 74,
   "id": "f6744a6b-06be-4bb4-ba24-73fed8d54fe4",
   "metadata": {},
   "outputs": [
    {
     "name": "stdout",
     "output_type": "stream",
     "text": [
      "Hello have you seen my function\n"
     ]
    }
   ],
   "source": [
    "#function are block codes which must be called to be executed.\n",
    "def my_function():\n",
    "    print(\"Hello have you seen my function\") # defining a function\n",
    "# calling the function\n",
    "my_function()"
   ]
  },
  {
   "cell_type": "code",
   "execution_count": 90,
   "id": "f8d3b29a-56e5-45d4-b3a2-02eb45ecde18",
   "metadata": {},
   "outputs": [
    {
     "name": "stdout",
     "output_type": "stream",
     "text": [
      "William rodgers Assistant coordinator.\n",
      "Pauline Hymaress Assistant coordinator.\n",
      "Dancan Meroz Assistant coordinator.\n"
     ]
    }
   ],
   "source": [
    "# uses of functions in arguments\n",
    "def my_function(fname):\n",
    "    print(fname +\" \" + \"Assistant coordinator.\"),\n",
    "\n",
    "my_function(\"William rodgers\"),\n",
    "my_function(\"Pauline Hymaress\"),\n",
    "my_function(\"Dancan Meroz\")\n",
    "\n"
   ]
  },
  {
   "cell_type": "code",
   "execution_count": 96,
   "id": "bfd264ae-f7b2-4251-bd4c-e076fa9652ef",
   "metadata": {},
   "outputs": [
    {
     "name": "stdout",
     "output_type": "stream",
     "text": [
      "Timoty rodgers and Hannah Naham ,will be joining vows in the holy matrimony.\n",
      "Peter Farman and Loveli lopez ,will be joining vows in the holy matrimony.\n",
      "George Rainhad and Mary Morgan ,will be joining vows in the holy matrimony.\n",
      "Matthew Anira and Pendo Hexsable ,will be joining vows in the holy matrimony.\n"
     ]
    }
   ],
   "source": [
    "# some rule of def the parameters should should fit to what is called.\n",
    "def my_function(fname, lname):\n",
    "    print(fname+ \" \" + \"and\" + \" \" + lname + \" \" +\",will be joining vows in the holy matrimony.\")\n",
    "\n",
    "my_function(\"Timoty rodgers\", \"Hannah Naham\")\n",
    "my_function(\"Peter Farman\", \"Loveli lopez\")\n",
    "my_function(\"George Rainhad\",\"Mary Morgan\")\n",
    "my_function(\"Matthew Anira\",\"Pendo Hexsable\")"
   ]
  },
  {
   "cell_type": "code",
   "execution_count": 110,
   "id": "14f60567-e836-426f-a4f7-aa8135013ef1",
   "metadata": {},
   "outputs": [
    {
     "name": "stdout",
     "output_type": "stream",
     "text": [
      "The following student quqlified  to STEM school: Machio P A\n"
     ]
    }
   ],
   "source": [
    "# * can be used if you atr not so sure about the arrangment of the arg \n",
    "def my_function(*kids):\n",
    "    print(\"The following student quqlified  to STEM school:\"+ \" \" + kids[0])\n",
    "\n",
    "my_function(\"Machio P A\",\"Promise M A\",\"Arauna P M\")"
   ]
  },
  {
   "cell_type": "code",
   "execution_count": 112,
   "id": "3312f192-6647-4057-9462-a5ed14889bbb",
   "metadata": {},
   "outputs": [
    {
     "name": "stdout",
     "output_type": "stream",
     "text": [
      "I am from Sweden\n",
      "I am from India\n",
      "I am from Norway\n",
      "I am from Brazil\n"
     ]
    }
   ],
   "source": [
    "#this norway will take the empty undefined function by default \"Default parameter\"\n",
    "def my_function(country = \"Norway\"):\n",
    "  print(\"I am from \" + country)\n",
    "\n",
    "my_function(\"Sweden\")\n",
    "my_function(\"India\")\n",
    "my_function()\n",
    "my_function(\"Brazil\")"
   ]
  },
  {
   "cell_type": "code",
   "execution_count": 118,
   "id": "401a59e0-aec2-4d5b-b8c5-99fd95fc0e1c",
   "metadata": {},
   "outputs": [],
   "source": [
    "def my_function(food):\n",
    "  for x in food:\n",
    "    print(x)\n",
    "fruits = [\"apple\", \"banana\", \"cherry\"]\n",
    "\n",
    "my_function(fruits)\n"
   ]
  },
  {
   "cell_type": "code",
   "execution_count": 121,
   "id": "bdcc2d5a-f2cb-4973-b956-f86ea869bcae",
   "metadata": {},
   "outputs": [
    {
     "name": "stdout",
     "output_type": "stream",
     "text": [
      "15\n",
      "25\n",
      "45\n"
     ]
    }
   ],
   "source": [
    "#Return value in functions\n",
    "def my_function(x):\n",
    "    return 5 * x\n",
    "print(my_function(3))\n",
    "print(my_function(5))\n",
    "print(my_function(9))"
   ]
  },
  {
   "cell_type": "code",
   "execution_count": 123,
   "id": "edc30da6-559a-4f17-bea2-ab6c4be46f19",
   "metadata": {},
   "outputs": [
    {
     "name": "stdout",
     "output_type": "stream",
     "text": [
      "3\n"
     ]
    }
   ],
   "source": [
    "def my_function(x, /):\n",
    "  print(x)\n",
    "\n",
    "my_function(3)"
   ]
  },
  {
   "cell_type": "code",
   "execution_count": 133,
   "id": "1774ae75-310c-41cd-a096-c9dad9e4f2a5",
   "metadata": {},
   "outputs": [
    {
     "name": "stdout",
     "output_type": "stream",
     "text": [
      "Recursion Example Results:\n",
      "1\n",
      "3\n",
      "6\n",
      "10\n",
      "15\n",
      "21\n"
     ]
    },
    {
     "data": {
      "text/plain": [
       "21"
      ]
     },
     "execution_count": 133,
     "metadata": {},
     "output_type": "execute_result"
    }
   ],
   "source": [
    "def tri_recursion(k):\n",
    "    if k > 0:\n",
    "      result = k + tri_recursion(k - 1)\n",
    "      print(result)\n",
    "    else:\n",
    "        result = 0\n",
    "    return result\n",
    "\n",
    "print(\"Recursion Example Results:\")\n",
    "tri_recursion(6)\n",
    "    "
   ]
  },
  {
   "cell_type": "markdown",
   "id": "9cd58a37-1294-4cec-8beb-4ad4c948d7b9",
   "metadata": {},
   "source": [
    "Lambda function "
   ]
  },
  {
   "cell_type": "code",
   "execution_count": 144,
   "id": "76fc4e6a-6bb4-4878-ad48-378c66dbf940",
   "metadata": {},
   "outputs": [
    {
     "name": "stdout",
     "output_type": "stream",
     "text": [
      "30\n",
      "42\n",
      "69.0\n"
     ]
    }
   ],
   "source": [
    "x =lambda a : a + 28 #adding 28 to argument a and returning the result.\n",
    "print(x(2))\n",
    "\n",
    "#lambda take multiple arguments for instance\n",
    "x = lambda a, b: a*b #lambda function will multiple the the two numbers assigned to a and b\n",
    "print(x(6,7))\n",
    "\n",
    "# still the argument can be longer \n",
    "x = lambda a, b, c, d, e : a/ b*c+d-e\n",
    "print(x(24,2,5,12,3))"
   ]
  },
  {
   "cell_type": "markdown",
   "id": "df8aa338-3b54-48a2-9ffb-f1fff5001481",
   "metadata": {},
   "source": [
    "WHY use the lambda function.\n"
   ]
  },
  {
   "cell_type": "code",
   "execution_count": 161,
   "id": "0ee0873b-4958-4f86-bd1d-5325a5b54608",
   "metadata": {},
   "outputs": [
    {
     "name": "stdout",
     "output_type": "stream",
     "text": [
      "88\n",
      "54\n"
     ]
    }
   ],
   "source": [
    "#for instance\n",
    "def my_func(n):\n",
    "    return lambda a: a * n\n",
    "\n",
    "my_doubler =my_func(2) \n",
    "my_trippler =my_func(3)\n",
    "\n",
    "print(my_doubler(44))\n",
    "print(my_trippler(18))"
   ]
  },
  {
   "cell_type": "markdown",
   "id": "51ebfc64-55de-4808-9c04-9306ae7c897f",
   "metadata": {},
   "source": [
    "Arrays"
   ]
  },
  {
   "cell_type": "code",
   "execution_count": 166,
   "id": "6e784455-f8a4-4044-beba-6233b856214e",
   "metadata": {},
   "outputs": [
    {
     "name": "stdout",
     "output_type": "stream",
     "text": [
      "Honda\n",
      "volvo\n",
      "Toyota\n"
     ]
    }
   ],
   "source": [
    "cars = [\"Honda\",\"volvo\",\"Toyota\"]\n",
    "for x in cars:\n",
    "   print(x) #for loops in arrays."
   ]
  },
  {
   "cell_type": "code",
   "execution_count": 182,
   "id": "c8b93c38-dbde-453a-aab9-1bfe0b3ee013",
   "metadata": {},
   "outputs": [
    {
     "name": "stdout",
     "output_type": "stream",
     "text": [
      "5\n",
      "['Honda', 'volvo', 'Toyota', 'Tesla', 'Discovery', 'subaru']\n"
     ]
    }
   ],
   "source": [
    "# an array of cars\n",
    "cars = [\"Honda\",\"volvo\",\"Toyota\",\"Tesla\",\"Discovery\"]\n",
    "# to know how many are the cars\n",
    "print(len(cars))\n",
    "#to access a specific car\n",
    "cars[0]\n",
    "# to add a car in the array\n",
    "cars.append(\"subaru\")\n",
    "print(cars)\n",
    "cars[3]\n"
   ]
  },
  {
   "cell_type": "markdown",
   "id": "4833d696-b30a-4c0a-b994-b7685b42914a",
   "metadata": {},
   "source": [
    "Class and Objects in python."
   ]
  },
  {
   "cell_type": "code",
   "execution_count": 209,
   "id": "8ac8288e-e3a6-4aa5-a811-ae812d2ab7b2",
   "metadata": {},
   "outputs": [
    {
     "name": "stdout",
     "output_type": "stream",
     "text": [
      "6\n",
      "machio promise\n",
      "19\n"
     ]
    }
   ],
   "source": [
    "class Myclass:# how to create an object with the blueprint class\n",
    "    x =6\n",
    "\n",
    "pr= Myclass()\n",
    "print(pr.x)\n",
    "\"\"\" \n",
    "The above probably just shows the simplest form of \n",
    "classes and objects but are not really applicable in real life situation\n",
    "\"\"\"\n",
    "#the followig is a more relative context in the above using \n",
    "#_init_()\n",
    "class person:\n",
    "    def __init__(self,name,age):\n",
    "        self.name = name\n",
    "        self.age = age\n",
    "\n",
    "    \n",
    "p1 = person(\"machio promise\", 19)\n",
    "\n",
    "print(p1.name)\n",
    "print(p1.age)\n"
   ]
  },
  {
   "cell_type": "code",
   "execution_count": 215,
   "id": "c7c35511-e292-4260-a45f-dedefad7f54b",
   "metadata": {},
   "outputs": [
    {
     "name": "stdout",
     "output_type": "stream",
     "text": [
      "SUbaru Impreza\n",
      "Germany Machine\n"
     ]
    }
   ],
   "source": [
    "class car:\n",
    "    def __init__(model,name,brand):\n",
    "        model.name = name \n",
    "        model.brand =brand\n",
    "\n",
    "c1 = car(\"SUbaru Impreza\", \"Germany Machine\")\n",
    "\n",
    "print(c1.name)\n",
    "print(c1.brand)"
   ]
  },
  {
   "cell_type": "code",
   "execution_count": 228,
   "id": "4f499c54-becd-49b3-bee7-31141d321481",
   "metadata": {},
   "outputs": [
    {
     "name": "stdout",
     "output_type": "stream",
     "text": [
      "I am Machio Promise and am 19 years old\n"
     ]
    }
   ],
   "source": [
    "class person:\n",
    "    def __init__(self,name,age):\n",
    "        self.name = name\n",
    "        self.age = age\n",
    "\n",
    "    def __str__(self):\n",
    "        return f\"I am { self.name} and am {self.age} years old\"\n",
    "\n",
    "p1 = person(\"Machio Promise\", 19)\n",
    "print(p1)"
   ]
  },
  {
   "cell_type": "code",
   "execution_count": null,
   "id": "7c0ef241-f805-476b-abd3-bf3b39acd238",
   "metadata": {},
   "outputs": [],
   "source": []
  }
 ],
 "metadata": {
  "kernelspec": {
   "display_name": "Python 3 (ipykernel)",
   "language": "python",
   "name": "python3"
  },
  "language_info": {
   "codemirror_mode": {
    "name": "ipython",
    "version": 3
   },
   "file_extension": ".py",
   "mimetype": "text/x-python",
   "name": "python",
   "nbconvert_exporter": "python",
   "pygments_lexer": "ipython3",
   "version": "3.12.4"
  }
 },
 "nbformat": 4,
 "nbformat_minor": 5
}
